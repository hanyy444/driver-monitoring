{
  "nbformat": 4,
  "nbformat_minor": 0,
  "metadata": {
    "colab": {
      "name": "main.ipynb",
      "provenance": [],
      "collapsed_sections": [],
      "authorship_tag": "ABX9TyNrMg3IORRJKrMBxxQKLYNU",
      "include_colab_link": true
    },
    "kernelspec": {
      "name": "python3",
      "display_name": "Python 3"
    },
    "language_info": {
      "name": "python"
    }
  },
  "cells": [
    {
      "cell_type": "markdown",
      "metadata": {
        "id": "view-in-github",
        "colab_type": "text"
      },
      "source": [
        "<a href=\"https://colab.research.google.com/github/hanyy444/driver-monitoring/blob/main/main.ipynb\" target=\"_parent\"><img src=\"https://colab.research.google.com/assets/colab-badge.svg\" alt=\"Open In Colab\"/></a>"
      ]
    },
    {
      "cell_type": "code",
      "source": [
        "from google.colab import drive\n",
        "drive.mount('/content/gdrive')"
      ],
      "metadata": {
        "colab": {
          "base_uri": "https://localhost:8080/"
        },
        "id": "-00bkGtnM5Bd",
        "outputId": "7c72665b-2008-41c9-ca56-70fedb123951"
      },
      "execution_count": 2,
      "outputs": [
        {
          "output_type": "stream",
          "name": "stdout",
          "text": [
            "Mounted at /content/gdrive\n"
          ]
        }
      ]
    },
    {
      "cell_type": "code",
      "source": [
        ""
      ],
      "metadata": {
        "colab": {
          "base_uri": "https://localhost:8080/"
        },
        "id": "aIEalSN6QbUf",
        "outputId": "43cf7483-224e-4df4-a165-d2e0bc2490e8"
      },
      "execution_count": 3,
      "outputs": [
        {
          "output_type": "stream",
          "name": "stdout",
          "text": [
            "fatal: not a git repository (or any of the parent directories): .git\n"
          ]
        }
      ]
    },
    {
      "cell_type": "code",
      "source": [
        "import matplotlib.pyplot as plt\n",
        "import numpy as np\n",
        "import os"
      ],
      "metadata": {
        "id": "ttoCAlx1Fsk4"
      },
      "execution_count": 1,
      "outputs": []
    },
    {
      "cell_type": "code",
      "source": [
        "dir = os.listdir(os.getcwd())\n",
        "dir"
      ],
      "metadata": {
        "colab": {
          "base_uri": "https://localhost:8080/"
        },
        "id": "2PEY1Fj31dhG",
        "outputId": "85459b3c-eb2d-4761-c7c3-25b04240f9fa"
      },
      "execution_count": 3,
      "outputs": [
        {
          "output_type": "execute_result",
          "data": {
            "text/plain": [
              "['.config', 'sample_data']"
            ]
          },
          "metadata": {},
          "execution_count": 3
        }
      ]
    },
    {
      "cell_type": "code",
      "source": [
        "# Verify dataset is on drive\n",
        "image = plt.imread('./gdrive/MyDrive/Datasets/StateFarm/imgs/train/c0/img_100026.jpg')\n",
        "plt.imshow(image)"
      ],
      "metadata": {
        "id": "LAYthECxHdS5"
      },
      "execution_count": 4,
      "outputs": []
    },
    {
      "cell_type": "code",
      "source": [
        "# Data Path\n",
        "path = './gdrive/MyDrive/Datasets/StateFarm/imgs'\n",
        "\n",
        "\n",
        "# Load train, test data\n",
        "def load(path):\n",
        "    training_images = [] \n",
        "    training_labels = []\n",
        "    test_images = []\n",
        "\n",
        "    # Train\n",
        "    train_path = path + '/train/'\n",
        "    train_dir = os.listdir(train_path)\n",
        "\n",
        "    for direc in train_dir:\n",
        "        # Inner Directory\n",
        "        inner_dir = train_path + direc + '/'\n",
        "        \n",
        "        c = 0\n",
        "        count = len(os.listdir(inner_dir))\n",
        "        # Inner files (images)\n",
        "        for file in os.listdir(inner_dir): \n",
        "            if c == (1/2) * count:\n",
        "              break\n",
        "            image_path = inner_dir + file\n",
        "            #print(image_path)\n",
        "            image = plt.imread(image_path)\n",
        "            image = np.array(image)\n",
        "            training_images.append(image)\n",
        "            training_labels.append(dir.index(direc))\n",
        "            c += 1\n",
        "        \n",
        "    # Test\n",
        "    test_path = path + '/test/'\n",
        "\n",
        "    for file in os.listdir(test_path): \n",
        "      image_path = test_path + file\n",
        "      image = plt.imread(image_path)\n",
        "      image = np.array(image)\n",
        "      test_images.append(image)\n",
        "   \n",
        "\n",
        "    training_images = np.array(training_images)\n",
        "    training_labels = np.array(training_labels)\n",
        "    test_images = np.array(test_images)\n",
        "\n",
        "    return training_images, training_labels, test_images\n",
        "\n",
        "training_images, training_labels, test_images = load(path)"
      ],
      "metadata": {
        "id": "XrONS5d6FsQ3"
      },
      "execution_count": null,
      "outputs": []
    },
    {
      "cell_type": "code",
      "source": [
        "print(training_images.shape)\n",
        "# Reshape labels\n",
        "training_labels = training_labels.reshape(training_labels.shape[0],1)\n",
        "print(training_labels.shape)\n",
        "print(training_images[0])"
      ],
      "metadata": {
        "id": "lHdkE-g3FsJQ"
      },
      "execution_count": null,
      "outputs": []
    },
    {
      "cell_type": "code",
      "execution_count": 6,
      "metadata": {
        "id": "RLj_2tu1Fqkq"
      },
      "outputs": [],
      "source": [
        "# Normalization\n",
        "training_images = training_images / 255.0\n",
        "print(training_images[0])\n",
        "print(type(training_images[0]))"
      ]
    },
    {
      "cell_type": "code",
      "source": [
        ""
      ],
      "metadata": {
        "id": "5Im593ljG9L_"
      },
      "execution_count": null,
      "outputs": []
    },
    {
      "cell_type": "code",
      "source": [
        ""
      ],
      "metadata": {
        "id": "dOFbvfhzG88u"
      },
      "execution_count": null,
      "outputs": []
    },
    {
      "cell_type": "code",
      "source": [
        ""
      ],
      "metadata": {
        "id": "ZJr8UsYDG835"
      },
      "execution_count": null,
      "outputs": []
    }
  ]
}